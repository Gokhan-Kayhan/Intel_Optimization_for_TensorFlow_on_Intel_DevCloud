{
  "cells": [
    {
      "cell_type": "markdown",
      "source": [
        "# Comparison of Intel Optimized TensorFlow vs Default Tensorflow"
      ],
      "metadata": {
        "id": "smbzDkQyItdT"
      }
    },
    {
      "cell_type": "markdown",
      "source": [
        "\n",
        "\n",
        "|                               | Intel Optimized TensorFlow | Default TensorFlow |\n",
        "|-------------------------------|----------------------------|--------------------|\n",
        "| Normalized Data (10 Epochs)   | 10.90 seconds              | 30.77 seconds      |\n",
        "| Normalized Data (20 Epochs)   | 22.87 seconds              | 66.84 seconds      |\n",
        "|                               |                            |                    |\n",
        "| Unnormalized Data (10 Epochs) | 50.57 seconds              | 73.14 seconds      |\n",
        "| Unnormalized Data (20 Epochs) | 101.56 seconds             | 142.69 seconds     |"
      ],
      "metadata": {
        "id": "arEoS9D4IQEF"
      }
    },
    {
      "cell_type": "markdown",
      "metadata": {
        "id": "XbAyLWEJ6_Qj",
        "jp-MarkdownHeadingCollapsed": true,
        "tags": []
      },
      "source": [
        "# Import Libraries"
      ]
    },
    {
      "cell_type": "markdown",
      "metadata": {
        "jp-MarkdownHeadingCollapsed": true,
        "tags": [],
        "id": "KVIz8POiIL1J"
      },
      "source": [
        "### When Intel® Extension for TensorFlow is used, it informs us at the output"
      ]
    },
    {
      "cell_type": "code",
      "execution_count": null,
      "metadata": {
        "id": "cUJzNj2oIDBO",
        "outputId": "9eefd706-2bb3-43ee-8c85-043287b63192"
      },
      "outputs": [
        {
          "name": "stderr",
          "output_type": "stream",
          "text": [
            "2023-08-07 13:47:04.699283: I tensorflow/tsl/cuda/cudart_stub.cc:28] Could not find cuda drivers on your machine, GPU will not be used.\n",
            "2023-08-07 13:47:04.738688: I tensorflow/tsl/cuda/cudart_stub.cc:28] Could not find cuda drivers on your machine, GPU will not be used.\n",
            "2023-08-07 13:47:04.740150: I tensorflow/core/platform/cpu_feature_guard.cc:182] This TensorFlow binary is optimized to use available CPU instructions in performance-critical operations.\n",
            "To enable the following instructions: AVX2 AVX512F FMA, in other operations, rebuild TensorFlow with the appropriate compiler flags.\n",
            "2023-08-07 13:47:06.697674: W tensorflow/compiler/tf2tensorrt/utils/py_utils.cc:38] TF-TRT Warning: Could not find TensorRT\n",
            "2023-08-07 13:47:08.405630: I itex/core/wrapper/itex_cpu_wrapper.cc:42] Intel Extension for Tensorflow* AVX512 CPU backend is loaded.\n",
            "2023-08-07 13:47:08.447965: W itex/core/ops/op_init.cc:58] Op: _QuantizedMaxPool3D is already registered in Tensorflow\n"
          ]
        }
      ],
      "source": [
        "import time\n",
        "import pathlib\n",
        "import numpy as np\n",
        "import matplotlib.pyplot as plt\n",
        "\n",
        "import tensorflow as tf\n",
        "from tensorflow import keras\n",
        "from tensorflow.keras import layers\n",
        "from tensorflow.keras.models import Model, Sequential\n",
        "from keras.layers import Dense, Dropout, Flatten, Conv2D, MaxPool2D\n"
      ]
    },
    {
      "cell_type": "code",
      "execution_count": null,
      "metadata": {
        "id": "Rc-7JogPIL1j"
      },
      "outputs": [],
      "source": []
    },
    {
      "cell_type": "markdown",
      "metadata": {
        "jp-MarkdownHeadingCollapsed": true,
        "tags": [],
        "id": "JzRSU4NdIL1k"
      },
      "source": [
        "### When Intel® Extension for TensorFlow is not used, the output shown like this"
      ]
    },
    {
      "cell_type": "code",
      "execution_count": null,
      "metadata": {
        "id": "9ZYUooPLIL1k",
        "outputId": "16da2747-4818-426c-df60-0cd26dbd97b9"
      },
      "outputs": [
        {
          "name": "stderr",
          "output_type": "stream",
          "text": [
            "2023-08-07 14:00:52.679834: I tensorflow/core/platform/cpu_feature_guard.cc:182] This TensorFlow binary is optimized to use available CPU instructions in performance-critical operations.\n",
            "To enable the following instructions: AVX2 AVX512F FMA, in other operations, rebuild TensorFlow with the appropriate compiler flags.\n"
          ]
        }
      ],
      "source": [
        "import time\n",
        "import pathlib\n",
        "import numpy as np\n",
        "import matplotlib.pyplot as plt\n",
        "\n",
        "import tensorflow as tf\n",
        "from tensorflow import keras\n",
        "from tensorflow.keras import layers\n",
        "from tensorflow.keras.models import Model, Sequential\n",
        "from keras.layers import Dense, Dropout, Flatten, Conv2D, MaxPool2D\n"
      ]
    },
    {
      "cell_type": "markdown",
      "metadata": {
        "jp-MarkdownHeadingCollapsed": true,
        "tags": [],
        "id": "HUDr4AoFIL1m"
      },
      "source": [
        "# Creat Dataset"
      ]
    },
    {
      "cell_type": "code",
      "execution_count": null,
      "metadata": {
        "id": "mv1SPxUdpK0j"
      },
      "outputs": [],
      "source": [
        "num_classes = 5\n",
        "batch_size = 32\n",
        "img_height = 160\n",
        "img_width = 160\n",
        "\n",
        "train_dir = pathlib.Path(\"/home/u198181/0image_classification/DATA/train/\")\n",
        "test_dir = pathlib.Path(\"/home/u198181/0image_classification/DATA/testing/\")"
      ]
    },
    {
      "cell_type": "code",
      "execution_count": null,
      "metadata": {
        "colab": {
          "base_uri": "https://localhost:8080/"
        },
        "id": "pDeC01PMJ6nv",
        "outputId": "0c422632-b178-45e9-bfb9-c117c776519f"
      },
      "outputs": [
        {
          "name": "stdout",
          "output_type": "stream",
          "text": [
            "Number of Train Images :  440\n",
            "Number of Test Images  :  183\n"
          ]
        }
      ],
      "source": [
        "image_count_train = len(list(train_dir.glob('*/*.jpg')))\n",
        "print(\"Number of Train Images : \",image_count_train)\n",
        "image_count_test = len(list(test_dir.glob('*/*.jpg')))\n",
        "print(\"Number of Test Images  : \",image_count_test)"
      ]
    },
    {
      "cell_type": "code",
      "execution_count": null,
      "metadata": {
        "id": "TxSjb2nHIL1n"
      },
      "outputs": [],
      "source": []
    },
    {
      "cell_type": "code",
      "execution_count": null,
      "metadata": {
        "colab": {
          "base_uri": "https://localhost:8080/"
        },
        "id": "j-4mPPGvJ6yB",
        "outputId": "44d19fd0-c716-4594-83af-0a27254af719"
      },
      "outputs": [
        {
          "name": "stdout",
          "output_type": "stream",
          "text": [
            "Found 440 files belonging to 5 classes.\n"
          ]
        },
        {
          "name": "stderr",
          "output_type": "stream",
          "text": [
            "2023-08-09 00:00:24.866305: I tensorflow/core/common_runtime/process_util.cc:146] Creating new thread pool with default inter op setting: \n"
          ]
        }
      ],
      "source": [
        "train_dataset = tf.keras.utils.image_dataset_from_directory(\n",
        "  train_dir,\n",
        "  shuffle=True,\n",
        "  seed=123,\n",
        "  image_size=(img_height, img_width),\n",
        "  batch_size=batch_size)"
      ]
    },
    {
      "cell_type": "code",
      "execution_count": null,
      "metadata": {
        "colab": {
          "base_uri": "https://localhost:8080/"
        },
        "id": "ylYlv2pxzcyZ",
        "outputId": "d636a239-72ef-4090-8e86-9da75ae1a98f"
      },
      "outputs": [
        {
          "name": "stdout",
          "output_type": "stream",
          "text": [
            "Found 440 files belonging to 5 classes.\n",
            "Using 88 files for validation.\n"
          ]
        }
      ],
      "source": [
        "validation_dataset = tf.keras.utils.image_dataset_from_directory(\n",
        "  train_dir,\n",
        "  shuffle=True,\n",
        "  validation_split=0.2,\n",
        "  subset=\"validation\",\n",
        "  seed=123,\n",
        "  image_size=(img_height, img_width),\n",
        "  batch_size=batch_size)"
      ]
    },
    {
      "cell_type": "code",
      "execution_count": null,
      "metadata": {
        "colab": {
          "base_uri": "https://localhost:8080/"
        },
        "id": "sPvkNuqjJ60q",
        "outputId": "60f2b183-ace9-4410-811d-59f9afe6a8ad"
      },
      "outputs": [
        {
          "name": "stdout",
          "output_type": "stream",
          "text": [
            "Found 185 files belonging to 5 classes.\n"
          ]
        }
      ],
      "source": [
        "test_dataset = tf.keras.utils.image_dataset_from_directory(\n",
        "  test_dir,\n",
        "  seed=123,\n",
        "  image_size=(img_height, img_width),\n",
        "  batch_size=batch_size)"
      ]
    },
    {
      "cell_type": "code",
      "execution_count": null,
      "metadata": {
        "colab": {
          "base_uri": "https://localhost:8080/"
        },
        "id": "eshHcVLIJ2qi",
        "outputId": "a19fbed9-5f6f-408e-a39b-4d525a545667"
      },
      "outputs": [
        {
          "name": "stdout",
          "output_type": "stream",
          "text": [
            "['Acne', 'Actinic Keratosis', 'Basal Cell Carcinoma', 'Eczemaa', 'Rosacea']\n"
          ]
        }
      ],
      "source": [
        "class_names = train_dataset.class_names\n",
        "print(class_names)"
      ]
    },
    {
      "cell_type": "code",
      "execution_count": null,
      "metadata": {
        "id": "GznRQFqBIL1r"
      },
      "outputs": [],
      "source": []
    },
    {
      "cell_type": "code",
      "execution_count": null,
      "metadata": {
        "id": "mOFbz28SS720"
      },
      "outputs": [],
      "source": [
        "data_augmentation = keras.Sequential(\n",
        "  [\n",
        "    layers.RandomFlip(\"horizontal\", input_shape=(img_height, img_width, 3)),\n",
        "    layers.RandomRotation(0.1),\n",
        "    layers.RandomZoom(0.5, 0.2),\n",
        "    layers.RandomContrast(0.3, seed=123),\n",
        "    layers.RandomTranslation(0.2, 0.4),\n",
        "    layers.RandomFlip(mode=\"horizontal_and_vertical\", seed=412)\n",
        "  ]\n",
        ")"
      ]
    },
    {
      "cell_type": "code",
      "execution_count": null,
      "metadata": {
        "id": "oX1pi-FpXrOA"
      },
      "outputs": [],
      "source": [
        "aug_train_dataset = train_dataset.map(\n",
        "  lambda x, y: (data_augmentation(x, training=True), y))"
      ]
    },
    {
      "cell_type": "code",
      "execution_count": null,
      "metadata": {
        "id": "nDMYM6kqIL1r"
      },
      "outputs": [],
      "source": []
    },
    {
      "cell_type": "code",
      "execution_count": null,
      "metadata": {
        "id": "CkL5KHsDa0TJ"
      },
      "outputs": [],
      "source": [
        "normalization_layer = layers.Rescaling(1./255)\n",
        "\n",
        "#normalization_layer = layers.Rescaling(1./127.5, offset=-1) # MobileNet should have this format"
      ]
    },
    {
      "cell_type": "code",
      "execution_count": null,
      "metadata": {
        "colab": {
          "base_uri": "https://localhost:8080/"
        },
        "id": "caLxjeaZXrbn",
        "outputId": "34e6aba5-05be-40fd-c898-afee13d8a360"
      },
      "outputs": [
        {
          "name": "stderr",
          "output_type": "stream",
          "text": [
            "2023-08-08 23:58:14.208617: I tensorflow/core/grappler/optimizers/custom_graph_optimizer_registry.cc:114] Plugin optimizer for device_type CPU is enabled.\n",
            "2023-08-08 23:58:14.298041: I tensorflow/core/grappler/optimizers/custom_graph_optimizer_registry.cc:114] Plugin optimizer for device_type CPU is enabled.\n",
            "2023-08-08 23:58:14.303936: I tensorflow/core/grappler/optimizers/custom_graph_optimizer_registry.cc:114] Plugin optimizer for device_type CPU is enabled.\n"
          ]
        },
        {
          "name": "stdout",
          "output_type": "stream",
          "text": [
            "0.085818656 0.8278934\n"
          ]
        }
      ],
      "source": [
        "normalized_train_dataset = aug_train_dataset.map(lambda x, y: (normalization_layer(x), y))\n",
        "image_batch, labels_batch = next(iter(normalized_train_dataset))\n",
        "first_image = image_batch[0]\n",
        "\n",
        "# Notice the pixel values are now in `[-1,1]`.\n",
        "print(np.min(first_image), np.max(first_image))"
      ]
    },
    {
      "cell_type": "code",
      "execution_count": null,
      "metadata": {
        "id": "qAyaha0IIL1s",
        "outputId": "b2ea8885-7fcb-47c6-c4aa-c55b6108b37a"
      },
      "outputs": [
        {
          "name": "stderr",
          "output_type": "stream",
          "text": [
            "2023-08-09 00:00:42.187327: I tensorflow/core/common_runtime/executor.cc:1197] [/device:CPU:0] (DEBUG INFO) Executor start aborting (this does not indicate an error and you can ignore this message): INVALID_ARGUMENT: You must feed a value for placeholder tensor 'Placeholder/_19' with dtype resource\n",
            "\t [[{{node Placeholder/_19}}]]\n",
            "2023-08-09 00:00:42.188370: I tensorflow/core/common_runtime/executor.cc:1197] [/device:CPU:0] (DEBUG INFO) Executor start aborting (this does not indicate an error and you can ignore this message): INVALID_ARGUMENT: You must feed a value for placeholder tensor 'Placeholder/_0' with dtype string and shape [440]\n",
            "\t [[{{node Placeholder/_0}}]]\n"
          ]
        },
        {
          "name": "stdout",
          "output_type": "stream",
          "text": [
            "0.17204624 0.9189608\n"
          ]
        }
      ],
      "source": [
        "normalized_train_dataset = aug_train_dataset.map(lambda x, y: (normalization_layer(x), y))\n",
        "image_batch, labels_batch = next(iter(normalized_train_dataset))\n",
        "first_image = image_batch[0]\n",
        "\n",
        "# Notice the pixel values are now in `[-1,1]`.\n",
        "print(np.min(first_image), np.max(first_image))"
      ]
    },
    {
      "cell_type": "code",
      "execution_count": null,
      "metadata": {
        "id": "CyaAIBV_bMt5"
      },
      "outputs": [],
      "source": [
        "AUTOTUNE = tf.data.AUTOTUNE\n",
        "\n",
        "normalized_train_dataset = train_dataset.cache().shuffle(1000).prefetch(buffer_size=AUTOTUNE)\n",
        "validation_dataset = validation_dataset.cache().prefetch(buffer_size=AUTOTUNE)"
      ]
    },
    {
      "cell_type": "markdown",
      "metadata": {
        "jp-MarkdownHeadingCollapsed": true,
        "tags": [],
        "id": "GNDMlO2lIL1t"
      },
      "source": [
        "# Model"
      ]
    },
    {
      "cell_type": "code",
      "execution_count": null,
      "metadata": {
        "id": "2PLS3etBXre6"
      },
      "outputs": [],
      "source": [
        "num_classes = 5\n",
        "\n",
        "model = Sequential([\n",
        "  #data_augmentation, # Since these options applied to data in the previous step,\n",
        "  #layers.Rescaling(1./255), # There is no need to implement them in model structure\n",
        "  layers.Conv2D(16, 3, padding='same', activation='relu'),\n",
        "  layers.MaxPooling2D(),\n",
        "  layers.Conv2D(32, 3, padding='same', activation='relu'),\n",
        "  layers.MaxPooling2D(),\n",
        "  layers.Conv2D(64, 3, padding='same', activation='relu'),\n",
        "  layers.MaxPooling2D(),\n",
        "  layers.Dropout(0.2),\n",
        "  layers.Flatten(),\n",
        "  layers.Dense(128, activation='relu'),\n",
        "  layers.Dense(num_classes, name=\"outputs\")\n",
        "])\n",
        "\n"
      ]
    },
    {
      "cell_type": "code",
      "execution_count": null,
      "metadata": {
        "id": "SSukkEi-H5SN"
      },
      "outputs": [],
      "source": [
        "\n",
        "model.compile(optimizer='adam',\n",
        "              loss=tf.keras.losses.SparseCategoricalCrossentropy(from_logits=True),\n",
        "              metrics=['accuracy'])\n"
      ]
    },
    {
      "cell_type": "markdown",
      "metadata": {
        "jp-MarkdownHeadingCollapsed": true,
        "tags": [],
        "id": "BWp6fs4MIL1t"
      },
      "source": [
        "# Training with Intel Extension for TensorFlow"
      ]
    },
    {
      "cell_type": "markdown",
      "metadata": {
        "jp-MarkdownHeadingCollapsed": true,
        "tags": [],
        "id": "N19Jcc7zIL1u"
      },
      "source": [
        "## Normalized Dataset"
      ]
    },
    {
      "cell_type": "markdown",
      "metadata": {
        "id": "p7iFFcj-IL1v"
      },
      "source": [
        "### 10 Epochs"
      ]
    },
    {
      "cell_type": "code",
      "execution_count": null,
      "metadata": {
        "id": "cKoMNcMzIL1w",
        "outputId": "c6f837f1-c8e9-4de6-9897-0c744523539c"
      },
      "outputs": [
        {
          "name": "stdout",
          "output_type": "stream",
          "text": [
            "Epoch 1/10\n",
            "14/14 [==============================] - 1s 77ms/step - loss: 0.2179 - accuracy: 0.9341 - val_loss: 0.1270 - val_accuracy: 0.9432\n",
            "Epoch 2/10\n",
            "14/14 [==============================] - 1s 77ms/step - loss: 0.1974 - accuracy: 0.9364 - val_loss: 0.1437 - val_accuracy: 0.9432\n",
            "Epoch 3/10\n",
            "14/14 [==============================] - 1s 77ms/step - loss: 0.1755 - accuracy: 0.9341 - val_loss: 0.0796 - val_accuracy: 0.9886\n",
            "Epoch 4/10\n",
            "14/14 [==============================] - 1s 77ms/step - loss: 0.1374 - accuracy: 0.9636 - val_loss: 0.0828 - val_accuracy: 0.9659\n",
            "Epoch 5/10\n",
            "14/14 [==============================] - 1s 78ms/step - loss: 0.1646 - accuracy: 0.9500 - val_loss: 0.1440 - val_accuracy: 0.9545\n",
            "Epoch 6/10\n",
            "14/14 [==============================] - 1s 79ms/step - loss: 0.2010 - accuracy: 0.9386 - val_loss: 0.1429 - val_accuracy: 0.9545\n",
            "Epoch 7/10\n",
            "14/14 [==============================] - 1s 79ms/step - loss: 0.1713 - accuracy: 0.9523 - val_loss: 0.1045 - val_accuracy: 0.9545\n",
            "Epoch 8/10\n",
            "14/14 [==============================] - 1s 77ms/step - loss: 0.1506 - accuracy: 0.9636 - val_loss: 0.0522 - val_accuracy: 0.9886\n",
            "Epoch 9/10\n",
            "14/14 [==============================] - 1s 76ms/step - loss: 0.1008 - accuracy: 0.9705 - val_loss: 0.0397 - val_accuracy: 0.9886\n",
            "Epoch 10/10\n",
            "14/14 [==============================] - 1s 77ms/step - loss: 0.0873 - accuracy: 0.9682 - val_loss: 0.0532 - val_accuracy: 0.9773\n",
            "Training was completed in  10.900869607925415  seconds.\n"
          ]
        }
      ],
      "source": [
        "totaltime = 0\n",
        "start = time.time()\n",
        "\n",
        "history = model.fit(normalized_train_dataset,\n",
        "                    validation_data=validation_dataset,\n",
        "                    epochs=10, verbose=1,\n",
        "                   )\n",
        "\n",
        "end = time.time()\n",
        "\n",
        "totaltime = end - start\n",
        "\n",
        "print(\"Training was completed in \",totaltime,\" seconds.\")"
      ]
    },
    {
      "cell_type": "markdown",
      "metadata": {
        "id": "D4N5pv9JIL1w"
      },
      "source": [
        "### 20 Epochs"
      ]
    },
    {
      "cell_type": "code",
      "execution_count": null,
      "metadata": {
        "id": "L62DHgWaH5dy",
        "outputId": "686012d3-8b9e-4305-b9d5-bb39a6aa0b8f"
      },
      "outputs": [
        {
          "name": "stdout",
          "output_type": "stream",
          "text": [
            "Epoch 1/20\n"
          ]
        },
        {
          "name": "stderr",
          "output_type": "stream",
          "text": [
            "2023-08-07 13:45:23.140004: I tensorflow/core/grappler/optimizers/custom_graph_optimizer_registry.cc:114] Plugin optimizer for device_type CPU is enabled.\n",
            "2023-08-07 13:45:23.281298: I tensorflow/core/grappler/optimizers/custom_graph_optimizer_registry.cc:114] Plugin optimizer for device_type CPU is enabled.\n"
          ]
        },
        {
          "name": "stdout",
          "output_type": "stream",
          "text": [
            "14/14 [==============================] - 2s 89ms/step - loss: 79.4564 - accuracy: 0.2068 - val_loss: 2.2165 - val_accuracy: 0.1591\n",
            "Epoch 2/20\n"
          ]
        },
        {
          "name": "stderr",
          "output_type": "stream",
          "text": [
            "2023-08-07 13:45:24.641889: I tensorflow/core/grappler/optimizers/custom_graph_optimizer_registry.cc:114] Plugin optimizer for device_type CPU is enabled.\n",
            "2023-08-07 13:45:24.696163: I tensorflow/core/grappler/optimizers/custom_graph_optimizer_registry.cc:114] Plugin optimizer for device_type CPU is enabled.\n"
          ]
        },
        {
          "name": "stdout",
          "output_type": "stream",
          "text": [
            "14/14 [==============================] - 1s 71ms/step - loss: 1.5555 - accuracy: 0.3477 - val_loss: 1.2147 - val_accuracy: 0.5568\n",
            "Epoch 3/20\n",
            "14/14 [==============================] - 1s 80ms/step - loss: 1.1934 - accuracy: 0.5523 - val_loss: 1.0099 - val_accuracy: 0.7045\n",
            "Epoch 4/20\n",
            "14/14 [==============================] - 1s 73ms/step - loss: 0.9866 - accuracy: 0.6523 - val_loss: 0.8281 - val_accuracy: 0.6818\n",
            "Epoch 5/20\n",
            "14/14 [==============================] - 1s 75ms/step - loss: 0.7971 - accuracy: 0.6909 - val_loss: 0.6531 - val_accuracy: 0.7273\n",
            "Epoch 6/20\n",
            "14/14 [==============================] - 1s 76ms/step - loss: 0.6012 - accuracy: 0.7727 - val_loss: 0.4584 - val_accuracy: 0.8409\n",
            "Epoch 7/20\n",
            "14/14 [==============================] - 1s 70ms/step - loss: 0.4867 - accuracy: 0.8205 - val_loss: 0.4290 - val_accuracy: 0.8750\n",
            "Epoch 8/20\n",
            "14/14 [==============================] - 1s 76ms/step - loss: 0.5126 - accuracy: 0.8682 - val_loss: 0.2999 - val_accuracy: 0.9091\n",
            "Epoch 9/20\n",
            "14/14 [==============================] - 1s 78ms/step - loss: 0.3779 - accuracy: 0.8750 - val_loss: 0.2041 - val_accuracy: 0.9318\n",
            "Epoch 10/20\n",
            "14/14 [==============================] - 1s 81ms/step - loss: 0.2432 - accuracy: 0.9273 - val_loss: 0.1570 - val_accuracy: 0.9659\n",
            "Epoch 11/20\n",
            "14/14 [==============================] - 1s 73ms/step - loss: 0.1958 - accuracy: 0.9409 - val_loss: 0.1504 - val_accuracy: 0.9659\n",
            "Epoch 12/20\n",
            "14/14 [==============================] - 1s 80ms/step - loss: 0.1354 - accuracy: 0.9614 - val_loss: 0.0622 - val_accuracy: 0.9886\n",
            "Epoch 13/20\n",
            "14/14 [==============================] - 1s 77ms/step - loss: 0.1866 - accuracy: 0.9636 - val_loss: 0.0986 - val_accuracy: 0.9659\n",
            "Epoch 14/20\n",
            "14/14 [==============================] - 1s 75ms/step - loss: 0.1027 - accuracy: 0.9727 - val_loss: 0.0411 - val_accuracy: 1.0000\n",
            "Epoch 15/20\n",
            "14/14 [==============================] - 1s 77ms/step - loss: 0.0875 - accuracy: 0.9818 - val_loss: 0.0502 - val_accuracy: 1.0000\n",
            "Epoch 16/20\n",
            "14/14 [==============================] - 1s 76ms/step - loss: 0.0569 - accuracy: 0.9955 - val_loss: 0.0320 - val_accuracy: 1.0000\n",
            "Epoch 17/20\n",
            "14/14 [==============================] - 1s 76ms/step - loss: 0.1879 - accuracy: 0.9818 - val_loss: 0.1561 - val_accuracy: 0.9773\n",
            "Epoch 18/20\n",
            "14/14 [==============================] - 1s 72ms/step - loss: 0.1841 - accuracy: 0.9500 - val_loss: 0.0655 - val_accuracy: 1.0000\n",
            "Epoch 19/20\n",
            "14/14 [==============================] - 1s 73ms/step - loss: 0.0781 - accuracy: 0.9750 - val_loss: 0.0309 - val_accuracy: 1.0000\n",
            "Epoch 20/20\n",
            "14/14 [==============================] - 1s 76ms/step - loss: 0.0500 - accuracy: 0.9909 - val_loss: 0.0133 - val_accuracy: 1.0000\n",
            "Training was completed in  22.870527505874634  seconds.\n"
          ]
        }
      ],
      "source": [
        "totaltime = 0\n",
        "start = time.time()\n",
        "\n",
        "history = model.fit(normalized_train_dataset,\n",
        "                    validation_data=validation_dataset,\n",
        "                    epochs=20, verbose=1,\n",
        "                   )\n",
        "\n",
        "end = time.time()\n",
        "\n",
        "totaltime = end - start\n",
        "\n",
        "print(\"Training was completed in \",totaltime,\" seconds.\")"
      ]
    },
    {
      "cell_type": "markdown",
      "metadata": {
        "jp-MarkdownHeadingCollapsed": true,
        "tags": [],
        "id": "heeuaQC3IL1w"
      },
      "source": [
        "## Unnormalized Data"
      ]
    },
    {
      "cell_type": "markdown",
      "metadata": {
        "jp-MarkdownHeadingCollapsed": true,
        "tags": [],
        "id": "P_QC87szIL1w"
      },
      "source": [
        "### 10 Epochs"
      ]
    },
    {
      "cell_type": "code",
      "execution_count": null,
      "metadata": {
        "id": "srksOrDZIL1x",
        "outputId": "15f86bed-429c-4630-d33e-040c2c4af5ba"
      },
      "outputs": [
        {
          "name": "stderr",
          "output_type": "stream",
          "text": [
            "2023-08-07 13:54:31.593122: I tensorflow/core/grappler/optimizers/custom_graph_optimizer_registry.cc:114] Plugin optimizer for device_type CPU is enabled.\n",
            "2023-08-07 13:54:31.702851: I tensorflow/core/grappler/optimizers/custom_graph_optimizer_registry.cc:114] Plugin optimizer for device_type CPU is enabled.\n"
          ]
        },
        {
          "name": "stdout",
          "output_type": "stream",
          "text": [
            "Epoch 1/10\n"
          ]
        },
        {
          "name": "stderr",
          "output_type": "stream",
          "text": [
            "2023-08-07 13:54:31.809235: I tensorflow/core/grappler/optimizers/custom_graph_optimizer_registry.cc:114] Plugin optimizer for device_type CPU is enabled.\n"
          ]
        },
        {
          "name": "stdout",
          "output_type": "stream",
          "text": [
            "14/14 [==============================] - 5s 299ms/step - loss: 3.2534 - accuracy: 0.2818 - val_loss: 1.2197 - val_accuracy: 0.4205\n"
          ]
        },
        {
          "name": "stderr",
          "output_type": "stream",
          "text": [
            "2023-08-07 13:54:36.329877: I tensorflow/core/grappler/optimizers/custom_graph_optimizer_registry.cc:114] Plugin optimizer for device_type CPU is enabled.\n"
          ]
        },
        {
          "name": "stdout",
          "output_type": "stream",
          "text": [
            "Epoch 2/10\n"
          ]
        },
        {
          "name": "stderr",
          "output_type": "stream",
          "text": [
            "2023-08-07 13:54:36.921662: I tensorflow/core/grappler/optimizers/custom_graph_optimizer_registry.cc:114] Plugin optimizer for device_type CPU is enabled.\n"
          ]
        },
        {
          "name": "stdout",
          "output_type": "stream",
          "text": [
            "14/14 [==============================] - 4s 287ms/step - loss: 1.6507 - accuracy: 0.1955 - val_loss: 1.3435 - val_accuracy: 0.3977\n"
          ]
        },
        {
          "name": "stderr",
          "output_type": "stream",
          "text": [
            "2023-08-07 13:54:41.248750: I tensorflow/core/grappler/optimizers/custom_graph_optimizer_registry.cc:114] Plugin optimizer for device_type CPU is enabled.\n"
          ]
        },
        {
          "name": "stdout",
          "output_type": "stream",
          "text": [
            "Epoch 3/10\n"
          ]
        },
        {
          "name": "stderr",
          "output_type": "stream",
          "text": [
            "2023-08-07 13:54:42.036615: I tensorflow/core/grappler/optimizers/custom_graph_optimizer_registry.cc:114] Plugin optimizer for device_type CPU is enabled.\n"
          ]
        },
        {
          "name": "stdout",
          "output_type": "stream",
          "text": [
            "14/14 [==============================] - 4s 288ms/step - loss: 1.5828 - accuracy: 0.2773 - val_loss: 1.3726 - val_accuracy: 0.4205\n"
          ]
        },
        {
          "name": "stderr",
          "output_type": "stream",
          "text": [
            "2023-08-07 13:54:46.393113: I tensorflow/core/grappler/optimizers/custom_graph_optimizer_registry.cc:114] Plugin optimizer for device_type CPU is enabled.\n"
          ]
        },
        {
          "name": "stdout",
          "output_type": "stream",
          "text": [
            "Epoch 4/10\n"
          ]
        },
        {
          "name": "stderr",
          "output_type": "stream",
          "text": [
            "2023-08-07 13:54:47.151172: I tensorflow/core/grappler/optimizers/custom_graph_optimizer_registry.cc:114] Plugin optimizer for device_type CPU is enabled.\n"
          ]
        },
        {
          "name": "stdout",
          "output_type": "stream",
          "text": [
            "14/14 [==============================] - 4s 289ms/step - loss: 1.5656 - accuracy: 0.2773 - val_loss: 1.4066 - val_accuracy: 0.3636\n"
          ]
        },
        {
          "name": "stderr",
          "output_type": "stream",
          "text": [
            "2023-08-07 13:54:51.436220: I tensorflow/core/grappler/optimizers/custom_graph_optimizer_registry.cc:114] Plugin optimizer for device_type CPU is enabled.\n"
          ]
        },
        {
          "name": "stdout",
          "output_type": "stream",
          "text": [
            "Epoch 5/10\n"
          ]
        },
        {
          "name": "stderr",
          "output_type": "stream",
          "text": [
            "2023-08-07 13:54:52.265402: I tensorflow/core/grappler/optimizers/custom_graph_optimizer_registry.cc:114] Plugin optimizer for device_type CPU is enabled.\n"
          ]
        },
        {
          "name": "stdout",
          "output_type": "stream",
          "text": [
            "14/14 [==============================] - 4s 290ms/step - loss: 1.5853 - accuracy: 0.2636 - val_loss: 1.3501 - val_accuracy: 0.4545\n"
          ]
        },
        {
          "name": "stderr",
          "output_type": "stream",
          "text": [
            "2023-08-07 13:54:56.614203: I tensorflow/core/grappler/optimizers/custom_graph_optimizer_registry.cc:114] Plugin optimizer for device_type CPU is enabled.\n"
          ]
        },
        {
          "name": "stdout",
          "output_type": "stream",
          "text": [
            "Epoch 6/10\n"
          ]
        },
        {
          "name": "stderr",
          "output_type": "stream",
          "text": [
            "2023-08-07 13:54:57.379778: I tensorflow/core/grappler/optimizers/custom_graph_optimizer_registry.cc:114] Plugin optimizer for device_type CPU is enabled.\n"
          ]
        },
        {
          "name": "stdout",
          "output_type": "stream",
          "text": [
            "14/14 [==============================] - 4s 290ms/step - loss: 1.5436 - accuracy: 0.2864 - val_loss: 1.3825 - val_accuracy: 0.4205\n"
          ]
        },
        {
          "name": "stderr",
          "output_type": "stream",
          "text": [
            "2023-08-07 13:55:01.734641: I tensorflow/core/grappler/optimizers/custom_graph_optimizer_registry.cc:114] Plugin optimizer for device_type CPU is enabled.\n"
          ]
        },
        {
          "name": "stdout",
          "output_type": "stream",
          "text": [
            "Epoch 7/10\n"
          ]
        },
        {
          "name": "stderr",
          "output_type": "stream",
          "text": [
            "2023-08-07 13:55:02.489068: I tensorflow/core/grappler/optimizers/custom_graph_optimizer_registry.cc:114] Plugin optimizer for device_type CPU is enabled.\n"
          ]
        },
        {
          "name": "stdout",
          "output_type": "stream",
          "text": [
            "14/14 [==============================] - 4s 288ms/step - loss: 1.5164 - accuracy: 0.3250 - val_loss: 1.3698 - val_accuracy: 0.4545\n"
          ]
        },
        {
          "name": "stderr",
          "output_type": "stream",
          "text": [
            "2023-08-07 13:55:06.859521: I tensorflow/core/grappler/optimizers/custom_graph_optimizer_registry.cc:114] Plugin optimizer for device_type CPU is enabled.\n"
          ]
        },
        {
          "name": "stdout",
          "output_type": "stream",
          "text": [
            "Epoch 8/10\n"
          ]
        },
        {
          "name": "stderr",
          "output_type": "stream",
          "text": [
            "2023-08-07 13:55:07.601343: I tensorflow/core/grappler/optimizers/custom_graph_optimizer_registry.cc:114] Plugin optimizer for device_type CPU is enabled.\n"
          ]
        },
        {
          "name": "stdout",
          "output_type": "stream",
          "text": [
            "14/14 [==============================] - 4s 282ms/step - loss: 1.5179 - accuracy: 0.3045 - val_loss: 1.3735 - val_accuracy: 0.4318\n"
          ]
        },
        {
          "name": "stderr",
          "output_type": "stream",
          "text": [
            "2023-08-07 13:55:11.855729: I tensorflow/core/grappler/optimizers/custom_graph_optimizer_registry.cc:114] Plugin optimizer for device_type CPU is enabled.\n"
          ]
        },
        {
          "name": "stdout",
          "output_type": "stream",
          "text": [
            "Epoch 9/10\n"
          ]
        },
        {
          "name": "stderr",
          "output_type": "stream",
          "text": [
            "2023-08-07 13:55:12.713781: I tensorflow/core/grappler/optimizers/custom_graph_optimizer_registry.cc:114] Plugin optimizer for device_type CPU is enabled.\n"
          ]
        },
        {
          "name": "stdout",
          "output_type": "stream",
          "text": [
            "14/14 [==============================] - 4s 277ms/step - loss: 1.5286 - accuracy: 0.2727 - val_loss: 1.3658 - val_accuracy: 0.4545\n"
          ]
        },
        {
          "name": "stderr",
          "output_type": "stream",
          "text": [
            "2023-08-07 13:55:16.949856: I tensorflow/core/grappler/optimizers/custom_graph_optimizer_registry.cc:114] Plugin optimizer for device_type CPU is enabled.\n"
          ]
        },
        {
          "name": "stdout",
          "output_type": "stream",
          "text": [
            "Epoch 10/10\n"
          ]
        },
        {
          "name": "stderr",
          "output_type": "stream",
          "text": [
            "2023-08-07 13:55:17.828895: I tensorflow/core/grappler/optimizers/custom_graph_optimizer_registry.cc:114] Plugin optimizer for device_type CPU is enabled.\n"
          ]
        },
        {
          "name": "stdout",
          "output_type": "stream",
          "text": [
            "14/14 [==============================] - 4s 281ms/step - loss: 1.5218 - accuracy: 0.2932 - val_loss: 1.3767 - val_accuracy: 0.4773\n",
            "Training was completed in  50.576711654663086  seconds.\n"
          ]
        }
      ],
      "source": [
        "totaltime = 0\n",
        "start = time.time()\n",
        "\n",
        "history = model.fit(aug_train_dataset,\n",
        "                    validation_data=validation_dataset,\n",
        "                    epochs=10, verbose=1,\n",
        "                    )\n",
        "end = time.time()\n",
        "\n",
        "totaltime = end - start\n",
        "\n",
        "print(\"Training was completed in \",totaltime,\" seconds.\")"
      ]
    },
    {
      "cell_type": "markdown",
      "metadata": {
        "jp-MarkdownHeadingCollapsed": true,
        "tags": [],
        "id": "Dulmu5HRIL12"
      },
      "source": [
        "### 20 Epochs"
      ]
    },
    {
      "cell_type": "code",
      "execution_count": null,
      "metadata": {
        "id": "rAZF8yqkIL12",
        "outputId": "9ed7128e-eade-41c9-aee5-7c88b72a22cf"
      },
      "outputs": [
        {
          "name": "stdout",
          "output_type": "stream",
          "text": [
            "Epoch 1/20\n"
          ]
        },
        {
          "name": "stderr",
          "output_type": "stream",
          "text": [
            "2023-08-07 13:58:18.871503: I tensorflow/core/grappler/optimizers/custom_graph_optimizer_registry.cc:114] Plugin optimizer for device_type CPU is enabled.\n",
            "2023-08-07 13:58:18.974646: I tensorflow/core/grappler/optimizers/custom_graph_optimizer_registry.cc:114] Plugin optimizer for device_type CPU is enabled.\n",
            "2023-08-07 13:58:19.068751: I tensorflow/core/grappler/optimizers/custom_graph_optimizer_registry.cc:114] Plugin optimizer for device_type CPU is enabled.\n"
          ]
        },
        {
          "name": "stdout",
          "output_type": "stream",
          "text": [
            "14/14 [==============================] - 4s 282ms/step - loss: 1.4514 - accuracy: 0.3318 - val_loss: 1.3810 - val_accuracy: 0.3523\n"
          ]
        },
        {
          "name": "stderr",
          "output_type": "stream",
          "text": [
            "2023-08-07 13:58:23.328291: I tensorflow/core/grappler/optimizers/custom_graph_optimizer_registry.cc:114] Plugin optimizer for device_type CPU is enabled.\n"
          ]
        },
        {
          "name": "stdout",
          "output_type": "stream",
          "text": [
            "Epoch 2/20\n"
          ]
        },
        {
          "name": "stderr",
          "output_type": "stream",
          "text": [
            "2023-08-07 13:58:24.185684: I tensorflow/core/grappler/optimizers/custom_graph_optimizer_registry.cc:114] Plugin optimizer for device_type CPU is enabled.\n"
          ]
        },
        {
          "name": "stdout",
          "output_type": "stream",
          "text": [
            "14/14 [==============================] - 4s 286ms/step - loss: 1.4852 - accuracy: 0.3318 - val_loss: 1.3795 - val_accuracy: 0.3636\n"
          ]
        },
        {
          "name": "stderr",
          "output_type": "stream",
          "text": [
            "2023-08-07 13:58:28.504656: I tensorflow/core/grappler/optimizers/custom_graph_optimizer_registry.cc:114] Plugin optimizer for device_type CPU is enabled.\n"
          ]
        },
        {
          "name": "stdout",
          "output_type": "stream",
          "text": [
            "Epoch 3/20\n"
          ]
        },
        {
          "name": "stderr",
          "output_type": "stream",
          "text": [
            "2023-08-07 13:58:29.298810: I tensorflow/core/grappler/optimizers/custom_graph_optimizer_registry.cc:114] Plugin optimizer for device_type CPU is enabled.\n"
          ]
        },
        {
          "name": "stdout",
          "output_type": "stream",
          "text": [
            "14/14 [==============================] - 4s 290ms/step - loss: 1.4661 - accuracy: 0.3614 - val_loss: 1.3742 - val_accuracy: 0.3636\n"
          ]
        },
        {
          "name": "stderr",
          "output_type": "stream",
          "text": [
            "2023-08-07 13:58:33.656716: I tensorflow/core/grappler/optimizers/custom_graph_optimizer_registry.cc:114] Plugin optimizer for device_type CPU is enabled.\n"
          ]
        },
        {
          "name": "stdout",
          "output_type": "stream",
          "text": [
            "Epoch 4/20\n"
          ]
        },
        {
          "name": "stderr",
          "output_type": "stream",
          "text": [
            "2023-08-07 13:58:34.411700: I tensorflow/core/grappler/optimizers/custom_graph_optimizer_registry.cc:114] Plugin optimizer for device_type CPU is enabled.\n"
          ]
        },
        {
          "name": "stdout",
          "output_type": "stream",
          "text": [
            "14/14 [==============================] - 4s 294ms/step - loss: 1.4983 - accuracy: 0.3295 - val_loss: 1.3890 - val_accuracy: 0.3409\n"
          ]
        },
        {
          "name": "stderr",
          "output_type": "stream",
          "text": [
            "2023-08-07 13:58:38.853576: I tensorflow/core/grappler/optimizers/custom_graph_optimizer_registry.cc:114] Plugin optimizer for device_type CPU is enabled.\n"
          ]
        },
        {
          "name": "stdout",
          "output_type": "stream",
          "text": [
            "Epoch 5/20\n"
          ]
        },
        {
          "name": "stderr",
          "output_type": "stream",
          "text": [
            "2023-08-07 13:58:39.524007: I tensorflow/core/grappler/optimizers/custom_graph_optimizer_registry.cc:114] Plugin optimizer for device_type CPU is enabled.\n"
          ]
        },
        {
          "name": "stdout",
          "output_type": "stream",
          "text": [
            "14/14 [==============================] - 4s 292ms/step - loss: 1.4597 - accuracy: 0.3523 - val_loss: 1.3720 - val_accuracy: 0.3409\n"
          ]
        },
        {
          "name": "stderr",
          "output_type": "stream",
          "text": [
            "2023-08-07 13:58:43.936817: I tensorflow/core/grappler/optimizers/custom_graph_optimizer_registry.cc:114] Plugin optimizer for device_type CPU is enabled.\n"
          ]
        },
        {
          "name": "stdout",
          "output_type": "stream",
          "text": [
            "Epoch 6/20\n"
          ]
        },
        {
          "name": "stderr",
          "output_type": "stream",
          "text": [
            "2023-08-07 13:58:44.640198: I tensorflow/core/grappler/optimizers/custom_graph_optimizer_registry.cc:114] Plugin optimizer for device_type CPU is enabled.\n"
          ]
        },
        {
          "name": "stdout",
          "output_type": "stream",
          "text": [
            "14/14 [==============================] - 4s 276ms/step - loss: 1.5012 - accuracy: 0.3318 - val_loss: 1.3983 - val_accuracy: 0.3636\n"
          ]
        },
        {
          "name": "stderr",
          "output_type": "stream",
          "text": [
            "2023-08-07 13:58:48.852877: I tensorflow/core/grappler/optimizers/custom_graph_optimizer_registry.cc:114] Plugin optimizer for device_type CPU is enabled.\n"
          ]
        },
        {
          "name": "stdout",
          "output_type": "stream",
          "text": [
            "Epoch 7/20\n"
          ]
        },
        {
          "name": "stderr",
          "output_type": "stream",
          "text": [
            "2023-08-07 13:58:49.752815: I tensorflow/core/grappler/optimizers/custom_graph_optimizer_registry.cc:114] Plugin optimizer for device_type CPU is enabled.\n"
          ]
        },
        {
          "name": "stdout",
          "output_type": "stream",
          "text": [
            "14/14 [==============================] - 4s 286ms/step - loss: 1.4781 - accuracy: 0.3295 - val_loss: 1.4027 - val_accuracy: 0.3636\n"
          ]
        },
        {
          "name": "stderr",
          "output_type": "stream",
          "text": [
            "2023-08-07 13:58:54.043556: I tensorflow/core/grappler/optimizers/custom_graph_optimizer_registry.cc:114] Plugin optimizer for device_type CPU is enabled.\n"
          ]
        },
        {
          "name": "stdout",
          "output_type": "stream",
          "text": [
            "Epoch 8/20\n"
          ]
        },
        {
          "name": "stderr",
          "output_type": "stream",
          "text": [
            "2023-08-07 13:58:54.866262: I tensorflow/core/grappler/optimizers/custom_graph_optimizer_registry.cc:114] Plugin optimizer for device_type CPU is enabled.\n"
          ]
        },
        {
          "name": "stdout",
          "output_type": "stream",
          "text": [
            "14/14 [==============================] - 4s 285ms/step - loss: 1.4334 - accuracy: 0.3341 - val_loss: 1.3801 - val_accuracy: 0.3750\n"
          ]
        },
        {
          "name": "stderr",
          "output_type": "stream",
          "text": [
            "2023-08-07 13:58:59.150316: I tensorflow/core/grappler/optimizers/custom_graph_optimizer_registry.cc:114] Plugin optimizer for device_type CPU is enabled.\n"
          ]
        },
        {
          "name": "stdout",
          "output_type": "stream",
          "text": [
            "Epoch 9/20\n"
          ]
        },
        {
          "name": "stderr",
          "output_type": "stream",
          "text": [
            "2023-08-07 13:58:59.978905: I tensorflow/core/grappler/optimizers/custom_graph_optimizer_registry.cc:114] Plugin optimizer for device_type CPU is enabled.\n"
          ]
        },
        {
          "name": "stdout",
          "output_type": "stream",
          "text": [
            "14/14 [==============================] - 4s 275ms/step - loss: 1.4651 - accuracy: 0.3364 - val_loss: 1.3836 - val_accuracy: 0.3977\n"
          ]
        },
        {
          "name": "stderr",
          "output_type": "stream",
          "text": [
            "2023-08-07 13:59:04.152458: I tensorflow/core/grappler/optimizers/custom_graph_optimizer_registry.cc:114] Plugin optimizer for device_type CPU is enabled.\n"
          ]
        },
        {
          "name": "stdout",
          "output_type": "stream",
          "text": [
            "Epoch 10/20\n"
          ]
        },
        {
          "name": "stderr",
          "output_type": "stream",
          "text": [
            "2023-08-07 13:59:05.091462: I tensorflow/core/grappler/optimizers/custom_graph_optimizer_registry.cc:114] Plugin optimizer for device_type CPU is enabled.\n"
          ]
        },
        {
          "name": "stdout",
          "output_type": "stream",
          "text": [
            "14/14 [==============================] - 4s 278ms/step - loss: 1.4438 - accuracy: 0.3636 - val_loss: 1.3858 - val_accuracy: 0.4318\n"
          ]
        },
        {
          "name": "stderr",
          "output_type": "stream",
          "text": [
            "2023-08-07 13:59:09.287361: I tensorflow/core/grappler/optimizers/custom_graph_optimizer_registry.cc:114] Plugin optimizer for device_type CPU is enabled.\n"
          ]
        },
        {
          "name": "stdout",
          "output_type": "stream",
          "text": [
            "Epoch 11/20\n"
          ]
        },
        {
          "name": "stderr",
          "output_type": "stream",
          "text": [
            "2023-08-07 13:59:10.202751: I tensorflow/core/grappler/optimizers/custom_graph_optimizer_registry.cc:114] Plugin optimizer for device_type CPU is enabled.\n"
          ]
        },
        {
          "name": "stdout",
          "output_type": "stream",
          "text": [
            "14/14 [==============================] - 4s 286ms/step - loss: 1.4537 - accuracy: 0.3409 - val_loss: 1.4148 - val_accuracy: 0.3636\n"
          ]
        },
        {
          "name": "stderr",
          "output_type": "stream",
          "text": [
            "2023-08-07 13:59:14.490448: I tensorflow/core/grappler/optimizers/custom_graph_optimizer_registry.cc:114] Plugin optimizer for device_type CPU is enabled.\n"
          ]
        },
        {
          "name": "stdout",
          "output_type": "stream",
          "text": [
            "Epoch 12/20\n"
          ]
        },
        {
          "name": "stderr",
          "output_type": "stream",
          "text": [
            "2023-08-07 13:59:15.316372: I tensorflow/core/grappler/optimizers/custom_graph_optimizer_registry.cc:114] Plugin optimizer for device_type CPU is enabled.\n"
          ]
        },
        {
          "name": "stdout",
          "output_type": "stream",
          "text": [
            "14/14 [==============================] - 4s 287ms/step - loss: 1.4870 - accuracy: 0.3409 - val_loss: 1.3846 - val_accuracy: 0.3523\n"
          ]
        },
        {
          "name": "stderr",
          "output_type": "stream",
          "text": [
            "2023-08-07 13:59:19.648117: I tensorflow/core/grappler/optimizers/custom_graph_optimizer_registry.cc:114] Plugin optimizer for device_type CPU is enabled.\n"
          ]
        },
        {
          "name": "stdout",
          "output_type": "stream",
          "text": [
            "Epoch 13/20\n"
          ]
        },
        {
          "name": "stderr",
          "output_type": "stream",
          "text": [
            "2023-08-07 13:59:20.428956: I tensorflow/core/grappler/optimizers/custom_graph_optimizer_registry.cc:114] Plugin optimizer for device_type CPU is enabled.\n"
          ]
        },
        {
          "name": "stdout",
          "output_type": "stream",
          "text": [
            "14/14 [==============================] - 4s 288ms/step - loss: 1.4876 - accuracy: 0.3750 - val_loss: 1.3939 - val_accuracy: 0.3977\n"
          ]
        },
        {
          "name": "stderr",
          "output_type": "stream",
          "text": [
            "2023-08-07 13:59:24.741301: I tensorflow/core/grappler/optimizers/custom_graph_optimizer_registry.cc:114] Plugin optimizer for device_type CPU is enabled.\n"
          ]
        },
        {
          "name": "stdout",
          "output_type": "stream",
          "text": [
            "Epoch 14/20\n"
          ]
        },
        {
          "name": "stderr",
          "output_type": "stream",
          "text": [
            "2023-08-07 13:59:25.543123: I tensorflow/core/grappler/optimizers/custom_graph_optimizer_registry.cc:114] Plugin optimizer for device_type CPU is enabled.\n"
          ]
        },
        {
          "name": "stdout",
          "output_type": "stream",
          "text": [
            "14/14 [==============================] - 4s 285ms/step - loss: 1.4389 - accuracy: 0.3591 - val_loss: 1.4192 - val_accuracy: 0.2955\n"
          ]
        },
        {
          "name": "stderr",
          "output_type": "stream",
          "text": [
            "2023-08-07 13:59:29.869625: I tensorflow/core/grappler/optimizers/custom_graph_optimizer_registry.cc:114] Plugin optimizer for device_type CPU is enabled.\n"
          ]
        },
        {
          "name": "stdout",
          "output_type": "stream",
          "text": [
            "Epoch 15/20\n"
          ]
        },
        {
          "name": "stderr",
          "output_type": "stream",
          "text": [
            "2023-08-07 13:59:30.655274: I tensorflow/core/grappler/optimizers/custom_graph_optimizer_registry.cc:114] Plugin optimizer for device_type CPU is enabled.\n"
          ]
        },
        {
          "name": "stdout",
          "output_type": "stream",
          "text": [
            "14/14 [==============================] - 4s 291ms/step - loss: 1.4409 - accuracy: 0.3682 - val_loss: 1.4187 - val_accuracy: 0.3295\n"
          ]
        },
        {
          "name": "stderr",
          "output_type": "stream",
          "text": [
            "2023-08-07 13:59:35.027813: I tensorflow/core/grappler/optimizers/custom_graph_optimizer_registry.cc:114] Plugin optimizer for device_type CPU is enabled.\n"
          ]
        },
        {
          "name": "stdout",
          "output_type": "stream",
          "text": [
            "Epoch 16/20\n"
          ]
        },
        {
          "name": "stderr",
          "output_type": "stream",
          "text": [
            "2023-08-07 13:59:35.770005: I tensorflow/core/grappler/optimizers/custom_graph_optimizer_registry.cc:114] Plugin optimizer for device_type CPU is enabled.\n"
          ]
        },
        {
          "name": "stdout",
          "output_type": "stream",
          "text": [
            "14/14 [==============================] - 4s 297ms/step - loss: 1.4507 - accuracy: 0.3659 - val_loss: 1.3622 - val_accuracy: 0.3750\n"
          ]
        },
        {
          "name": "stderr",
          "output_type": "stream",
          "text": [
            "2023-08-07 13:59:40.268695: I tensorflow/core/grappler/optimizers/custom_graph_optimizer_registry.cc:114] Plugin optimizer for device_type CPU is enabled.\n"
          ]
        },
        {
          "name": "stdout",
          "output_type": "stream",
          "text": [
            "Epoch 17/20\n"
          ]
        },
        {
          "name": "stderr",
          "output_type": "stream",
          "text": [
            "2023-08-07 13:59:40.883301: I tensorflow/core/grappler/optimizers/custom_graph_optimizer_registry.cc:114] Plugin optimizer for device_type CPU is enabled.\n"
          ]
        },
        {
          "name": "stdout",
          "output_type": "stream",
          "text": [
            "14/14 [==============================] - 4s 272ms/step - loss: 1.5212 - accuracy: 0.3500 - val_loss: 1.3889 - val_accuracy: 0.3523\n"
          ]
        },
        {
          "name": "stderr",
          "output_type": "stream",
          "text": [
            "2023-08-07 13:59:45.039062: I tensorflow/core/grappler/optimizers/custom_graph_optimizer_registry.cc:114] Plugin optimizer for device_type CPU is enabled.\n"
          ]
        },
        {
          "name": "stdout",
          "output_type": "stream",
          "text": [
            "Epoch 18/20\n"
          ]
        },
        {
          "name": "stderr",
          "output_type": "stream",
          "text": [
            "2023-08-07 13:59:45.996305: I tensorflow/core/grappler/optimizers/custom_graph_optimizer_registry.cc:114] Plugin optimizer for device_type CPU is enabled.\n"
          ]
        },
        {
          "name": "stdout",
          "output_type": "stream",
          "text": [
            "14/14 [==============================] - 4s 283ms/step - loss: 1.4134 - accuracy: 0.3614 - val_loss: 1.4071 - val_accuracy: 0.3864\n"
          ]
        },
        {
          "name": "stderr",
          "output_type": "stream",
          "text": [
            "2023-08-07 13:59:50.237916: I tensorflow/core/grappler/optimizers/custom_graph_optimizer_registry.cc:114] Plugin optimizer for device_type CPU is enabled.\n"
          ]
        },
        {
          "name": "stdout",
          "output_type": "stream",
          "text": [
            "Epoch 19/20\n"
          ]
        },
        {
          "name": "stderr",
          "output_type": "stream",
          "text": [
            "2023-08-07 13:59:51.110186: I tensorflow/core/grappler/optimizers/custom_graph_optimizer_registry.cc:114] Plugin optimizer for device_type CPU is enabled.\n"
          ]
        },
        {
          "name": "stdout",
          "output_type": "stream",
          "text": [
            "14/14 [==============================] - 4s 286ms/step - loss: 1.4628 - accuracy: 0.3364 - val_loss: 1.3987 - val_accuracy: 0.3750\n"
          ]
        },
        {
          "name": "stderr",
          "output_type": "stream",
          "text": [
            "2023-08-07 13:59:55.413351: I tensorflow/core/grappler/optimizers/custom_graph_optimizer_registry.cc:114] Plugin optimizer for device_type CPU is enabled.\n"
          ]
        },
        {
          "name": "stdout",
          "output_type": "stream",
          "text": [
            "Epoch 20/20\n"
          ]
        },
        {
          "name": "stderr",
          "output_type": "stream",
          "text": [
            "2023-08-07 13:59:56.224299: I tensorflow/core/grappler/optimizers/custom_graph_optimizer_registry.cc:114] Plugin optimizer for device_type CPU is enabled.\n"
          ]
        },
        {
          "name": "stdout",
          "output_type": "stream",
          "text": [
            "14/14 [==============================] - 4s 279ms/step - loss: 1.4358 - accuracy: 0.3932 - val_loss: 1.4421 - val_accuracy: 0.3523\n",
            "Training was completed in  101.56522107124329  seconds.\n"
          ]
        }
      ],
      "source": [
        "totaltime = 0\n",
        "start = time.time()\n",
        "\n",
        "history = model.fit(aug_train_dataset,\n",
        "                    validation_data=validation_dataset,\n",
        "                    epochs=20, verbose=1,\n",
        "                    )\n",
        "end = time.time()\n",
        "\n",
        "totaltime = end - start\n",
        "\n",
        "print(\"Training was completed in \",totaltime,\" seconds.\")"
      ]
    },
    {
      "cell_type": "markdown",
      "metadata": {
        "tags": [],
        "id": "DZwLKOCFIL13"
      },
      "source": [
        "# Default Tensorflow"
      ]
    },
    {
      "cell_type": "markdown",
      "metadata": {
        "id": "Ir01iJD1IL2L"
      },
      "source": [
        "## Normalized Dataset"
      ]
    },
    {
      "cell_type": "markdown",
      "metadata": {
        "id": "H_8vU3paIL2L"
      },
      "source": [
        "### 10 Epochs"
      ]
    },
    {
      "cell_type": "code",
      "execution_count": null,
      "metadata": {
        "id": "OnpIKTDPZ617",
        "outputId": "b1e2fbef-fb1e-4868-8140-ccc03d31cd31"
      },
      "outputs": [
        {
          "name": "stdout",
          "output_type": "stream",
          "text": [
            "Epoch 1/10\n"
          ]
        },
        {
          "name": "stderr",
          "output_type": "stream",
          "text": [
            "2023-08-07 13:38:29.121842: I tensorflow/core/common_runtime/executor.cc:1197] [/device:CPU:0] (DEBUG INFO) Executor start aborting (this does not indicate an error and you can ignore this message): INVALID_ARGUMENT: You must feed a value for placeholder tensor 'Placeholder/_4' with dtype int32 and shape [440]\n",
            "\t [[{{node Placeholder/_4}}]]\n",
            "2023-08-07 13:38:29.122693: I tensorflow/core/common_runtime/executor.cc:1197] [/device:CPU:0] (DEBUG INFO) Executor start aborting (this does not indicate an error and you can ignore this message): INVALID_ARGUMENT: You must feed a value for placeholder tensor 'Placeholder/_4' with dtype int32 and shape [440]\n",
            "\t [[{{node Placeholder/_4}}]]\n"
          ]
        },
        {
          "name": "stdout",
          "output_type": "stream",
          "text": [
            "14/14 [==============================] - ETA: 0s - loss: 120.8987 - accuracy: 0.2477"
          ]
        },
        {
          "name": "stderr",
          "output_type": "stream",
          "text": [
            "2023-08-07 13:38:33.453439: I tensorflow/core/common_runtime/executor.cc:1197] [/device:CPU:0] (DEBUG INFO) Executor start aborting (this does not indicate an error and you can ignore this message): INVALID_ARGUMENT: You must feed a value for placeholder tensor 'Placeholder/_0' with dtype string and shape [88]\n",
            "\t [[{{node Placeholder/_0}}]]\n",
            "2023-08-07 13:38:33.453987: I tensorflow/core/common_runtime/executor.cc:1197] [/device:CPU:0] (DEBUG INFO) Executor start aborting (this does not indicate an error and you can ignore this message): INVALID_ARGUMENT: You must feed a value for placeholder tensor 'Placeholder/_4' with dtype int32 and shape [88]\n",
            "\t [[{{node Placeholder/_4}}]]\n"
          ]
        },
        {
          "name": "stdout",
          "output_type": "stream",
          "text": [
            "14/14 [==============================] - 5s 207ms/step - loss: 120.8987 - accuracy: 0.2477 - val_loss: 2.3418 - val_accuracy: 0.3182\n",
            "Epoch 2/10\n",
            "14/14 [==============================] - 3s 195ms/step - loss: 1.6044 - accuracy: 0.3114 - val_loss: 1.3214 - val_accuracy: 0.4091\n",
            "Epoch 3/10\n",
            "14/14 [==============================] - 3s 196ms/step - loss: 1.3189 - accuracy: 0.4409 - val_loss: 1.1904 - val_accuracy: 0.5000\n",
            "Epoch 4/10\n",
            "14/14 [==============================] - 3s 208ms/step - loss: 1.0821 - accuracy: 0.5455 - val_loss: 0.8605 - val_accuracy: 0.6932\n",
            "Epoch 5/10\n",
            "14/14 [==============================] - 3s 204ms/step - loss: 0.8649 - accuracy: 0.6455 - val_loss: 0.6350 - val_accuracy: 0.7045\n",
            "Epoch 6/10\n",
            "14/14 [==============================] - 3s 186ms/step - loss: 0.6784 - accuracy: 0.7364 - val_loss: 0.4920 - val_accuracy: 0.8636\n",
            "Epoch 7/10\n",
            "14/14 [==============================] - 3s 192ms/step - loss: 0.4828 - accuracy: 0.8705 - val_loss: 0.3388 - val_accuracy: 0.8864\n",
            "Epoch 8/10\n",
            "14/14 [==============================] - 3s 200ms/step - loss: 0.3647 - accuracy: 0.8750 - val_loss: 0.2803 - val_accuracy: 0.9205\n",
            "Epoch 9/10\n",
            "14/14 [==============================] - 3s 194ms/step - loss: 0.2928 - accuracy: 0.9091 - val_loss: 0.2474 - val_accuracy: 0.9432\n",
            "Epoch 10/10\n",
            "14/14 [==============================] - 3s 188ms/step - loss: 0.2082 - accuracy: 0.9364 - val_loss: 0.1118 - val_accuracy: 0.9773\n",
            "Training was completed in  30.770689487457275  seconds.\n"
          ]
        }
      ],
      "source": [
        "totaltime = 0\n",
        "start = time.time()\n",
        "\n",
        "history = model.fit(normalized_train_dataset,\n",
        "                    validation_data=validation_dataset,\n",
        "                    epochs=10, verbose=1,\n",
        "                    )\n",
        "end = time.time()\n",
        "\n",
        "totaltime = end - start\n",
        "\n",
        "print(\"Training was completed in \",totaltime,\" seconds.\")"
      ]
    },
    {
      "cell_type": "markdown",
      "source": [
        "### 20 Epochs"
      ],
      "metadata": {
        "id": "K7vk6bOAJL0k"
      }
    },
    {
      "cell_type": "code",
      "execution_count": null,
      "metadata": {
        "id": "33aZ2rbXIL2L",
        "outputId": "9d4dc6b5-982a-48c2-93c2-79ac794525b2"
      },
      "outputs": [
        {
          "name": "stdout",
          "output_type": "stream",
          "text": [
            "Epoch 1/20\n"
          ]
        },
        {
          "name": "stderr",
          "output_type": "stream",
          "text": [
            "2023-08-09 00:01:44.547366: I tensorflow/core/common_runtime/executor.cc:1197] [/device:CPU:0] (DEBUG INFO) Executor start aborting (this does not indicate an error and you can ignore this message): INVALID_ARGUMENT: You must feed a value for placeholder tensor 'Placeholder/_4' with dtype int32 and shape [440]\n",
            "\t [[{{node Placeholder/_4}}]]\n",
            "2023-08-09 00:01:44.548281: I tensorflow/core/common_runtime/executor.cc:1197] [/device:CPU:0] (DEBUG INFO) Executor start aborting (this does not indicate an error and you can ignore this message): INVALID_ARGUMENT: You must feed a value for placeholder tensor 'Placeholder/_0' with dtype string and shape [440]\n",
            "\t [[{{node Placeholder/_0}}]]\n"
          ]
        },
        {
          "name": "stdout",
          "output_type": "stream",
          "text": [
            "14/14 [==============================] - ETA: 0s - loss: 97.9396 - accuracy: 0.2205 "
          ]
        },
        {
          "name": "stderr",
          "output_type": "stream",
          "text": [
            "2023-08-09 00:01:48.868710: I tensorflow/core/common_runtime/executor.cc:1197] [/device:CPU:0] (DEBUG INFO) Executor start aborting (this does not indicate an error and you can ignore this message): INVALID_ARGUMENT: You must feed a value for placeholder tensor 'Placeholder/_0' with dtype string and shape [88]\n",
            "\t [[{{node Placeholder/_0}}]]\n",
            "2023-08-09 00:01:48.869219: I tensorflow/core/common_runtime/executor.cc:1197] [/device:CPU:0] (DEBUG INFO) Executor start aborting (this does not indicate an error and you can ignore this message): INVALID_ARGUMENT: You must feed a value for placeholder tensor 'Placeholder/_4' with dtype int32 and shape [88]\n",
            "\t [[{{node Placeholder/_4}}]]\n"
          ]
        },
        {
          "name": "stdout",
          "output_type": "stream",
          "text": [
            "14/14 [==============================] - 5s 189ms/step - loss: 97.9396 - accuracy: 0.2205 - val_loss: 1.3874 - val_accuracy: 0.3750\n",
            "Epoch 2/20\n",
            "14/14 [==============================] - 3s 183ms/step - loss: 1.4050 - accuracy: 0.3432 - val_loss: 1.2019 - val_accuracy: 0.5114\n",
            "Epoch 3/20\n",
            "14/14 [==============================] - 3s 194ms/step - loss: 1.2002 - accuracy: 0.5364 - val_loss: 0.9293 - val_accuracy: 0.6477\n",
            "Epoch 4/20\n",
            "14/14 [==============================] - 3s 198ms/step - loss: 0.9476 - accuracy: 0.6250 - val_loss: 0.7349 - val_accuracy: 0.7045\n",
            "Epoch 5/20\n",
            "14/14 [==============================] - 3s 190ms/step - loss: 0.7609 - accuracy: 0.7250 - val_loss: 0.4493 - val_accuracy: 0.8636\n",
            "Epoch 6/20\n",
            "14/14 [==============================] - 3s 191ms/step - loss: 0.5647 - accuracy: 0.7864 - val_loss: 0.3073 - val_accuracy: 0.9318\n",
            "Epoch 7/20\n",
            "14/14 [==============================] - 3s 191ms/step - loss: 0.4824 - accuracy: 0.8455 - val_loss: 0.3666 - val_accuracy: 0.9091\n",
            "Epoch 8/20\n",
            "14/14 [==============================] - 3s 183ms/step - loss: 0.3494 - accuracy: 0.9045 - val_loss: 0.1985 - val_accuracy: 0.9432\n",
            "Epoch 9/20\n",
            "14/14 [==============================] - 3s 185ms/step - loss: 0.2215 - accuracy: 0.9295 - val_loss: 0.1120 - val_accuracy: 0.9659\n",
            "Epoch 10/20\n",
            "14/14 [==============================] - 3s 183ms/step - loss: 0.1403 - accuracy: 0.9636 - val_loss: 0.0682 - val_accuracy: 0.9773\n",
            "Epoch 11/20\n",
            "14/14 [==============================] - 3s 200ms/step - loss: 0.0678 - accuracy: 0.9818 - val_loss: 0.0341 - val_accuracy: 1.0000\n",
            "Epoch 12/20\n",
            "14/14 [==============================] - 3s 191ms/step - loss: 0.0409 - accuracy: 0.9955 - val_loss: 0.0228 - val_accuracy: 1.0000\n",
            "Epoch 13/20\n",
            "14/14 [==============================] - 3s 192ms/step - loss: 0.0424 - accuracy: 0.9932 - val_loss: 0.0126 - val_accuracy: 1.0000\n",
            "Epoch 14/20\n",
            "14/14 [==============================] - 2s 173ms/step - loss: 0.0191 - accuracy: 0.9977 - val_loss: 0.0040 - val_accuracy: 1.0000\n",
            "Epoch 15/20\n",
            "14/14 [==============================] - 3s 193ms/step - loss: 0.0201 - accuracy: 0.9977 - val_loss: 0.0153 - val_accuracy: 1.0000\n",
            "Epoch 16/20\n",
            "14/14 [==============================] - 2s 178ms/step - loss: 0.1049 - accuracy: 0.9727 - val_loss: 0.0594 - val_accuracy: 0.9886\n",
            "Epoch 17/20\n",
            "14/14 [==============================] - 2s 176ms/step - loss: 0.1181 - accuracy: 0.9682 - val_loss: 0.0619 - val_accuracy: 0.9886\n",
            "Epoch 18/20\n",
            "14/14 [==============================] - 3s 180ms/step - loss: 0.1532 - accuracy: 0.9455 - val_loss: 0.0809 - val_accuracy: 0.9773\n",
            "Epoch 19/20\n",
            "14/14 [==============================] - 3s 188ms/step - loss: 0.1867 - accuracy: 0.9523 - val_loss: 0.0650 - val_accuracy: 0.9773\n",
            "Epoch 20/20\n",
            "14/14 [==============================] - 3s 195ms/step - loss: 0.1207 - accuracy: 0.9727 - val_loss: 0.0267 - val_accuracy: 1.0000\n",
            "Training was completed in  66.84073972702026  seconds.\n"
          ]
        }
      ],
      "source": [
        "totaltime = 0\n",
        "start = time.time()\n",
        "\n",
        "history = model.fit(normalized_train_dataset,\n",
        "                    validation_data=validation_dataset,\n",
        "                    epochs=20, verbose=1,\n",
        "                    )\n",
        "end = time.time()\n",
        "\n",
        "totaltime = end - start\n",
        "\n",
        "print(\"Training was completed in \",totaltime,\" seconds.\")"
      ]
    },
    {
      "cell_type": "code",
      "execution_count": null,
      "metadata": {
        "id": "LgLmBVomIL2M"
      },
      "outputs": [],
      "source": []
    },
    {
      "cell_type": "markdown",
      "metadata": {
        "id": "IPS3VJiPIL2M"
      },
      "source": [
        "## Unnormalized Dataset"
      ]
    },
    {
      "cell_type": "markdown",
      "metadata": {
        "tags": [],
        "id": "ogFykPO5IL2M"
      },
      "source": [
        "### 10 Epochs"
      ]
    },
    {
      "cell_type": "code",
      "execution_count": null,
      "metadata": {
        "id": "01QKbWQvIL2M",
        "outputId": "c303d174-3546-43f4-fffd-58a42f7f3c78"
      },
      "outputs": [
        {
          "name": "stderr",
          "output_type": "stream",
          "text": [
            "2023-08-07 14:02:23.044939: I tensorflow/core/common_runtime/executor.cc:1197] [/device:CPU:0] (DEBUG INFO) Executor start aborting (this does not indicate an error and you can ignore this message): INVALID_ARGUMENT: You must feed a value for placeholder tensor 'Placeholder/_22' with dtype resource\n",
            "\t [[{{node Placeholder/_22}}]]\n",
            "2023-08-07 14:02:23.045404: I tensorflow/core/common_runtime/executor.cc:1197] [/device:CPU:0] (DEBUG INFO) Executor start aborting (this does not indicate an error and you can ignore this message): INVALID_ARGUMENT: You must feed a value for placeholder tensor 'Placeholder/_22' with dtype resource\n",
            "\t [[{{node Placeholder/_22}}]]\n"
          ]
        },
        {
          "name": "stdout",
          "output_type": "stream",
          "text": [
            "Epoch 1/10\n",
            "14/14 [==============================] - ETA: 0s - loss: 228.3792 - accuracy: 0.1932"
          ]
        },
        {
          "name": "stderr",
          "output_type": "stream",
          "text": [
            "2023-08-07 14:02:30.829476: I tensorflow/core/common_runtime/executor.cc:1197] [/device:CPU:0] (DEBUG INFO) Executor start aborting (this does not indicate an error and you can ignore this message): INVALID_ARGUMENT: You must feed a value for placeholder tensor 'Placeholder/_4' with dtype int32 and shape [88]\n",
            "\t [[{{node Placeholder/_4}}]]\n",
            "2023-08-07 14:02:30.830167: I tensorflow/core/common_runtime/executor.cc:1197] [/device:CPU:0] (DEBUG INFO) Executor start aborting (this does not indicate an error and you can ignore this message): INVALID_ARGUMENT: You must feed a value for placeholder tensor 'Placeholder/_4' with dtype int32 and shape [88]\n",
            "\t [[{{node Placeholder/_4}}]]\n"
          ]
        },
        {
          "name": "stdout",
          "output_type": "stream",
          "text": [
            "14/14 [==============================] - 8s 488ms/step - loss: 228.3792 - accuracy: 0.1932 - val_loss: 1.7724 - val_accuracy: 0.2273\n",
            "Epoch 2/10\n",
            "14/14 [==============================] - 7s 471ms/step - loss: 1.6324 - accuracy: 0.2568 - val_loss: 1.5307 - val_accuracy: 0.2500\n",
            "Epoch 3/10\n",
            "14/14 [==============================] - 7s 478ms/step - loss: 1.5949 - accuracy: 0.2182 - val_loss: 1.5069 - val_accuracy: 0.3182\n",
            "Epoch 4/10\n",
            "14/14 [==============================] - 7s 462ms/step - loss: 1.5604 - accuracy: 0.2727 - val_loss: 1.4670 - val_accuracy: 0.3636\n",
            "Epoch 5/10\n",
            "14/14 [==============================] - 7s 456ms/step - loss: 1.5762 - accuracy: 0.2682 - val_loss: 1.4918 - val_accuracy: 0.2727\n",
            "Epoch 6/10\n",
            "14/14 [==============================] - 7s 465ms/step - loss: 1.5378 - accuracy: 0.2955 - val_loss: 1.4302 - val_accuracy: 0.3295\n",
            "Epoch 7/10\n",
            "14/14 [==============================] - 7s 461ms/step - loss: 1.5986 - accuracy: 0.2727 - val_loss: 1.4510 - val_accuracy: 0.3182\n",
            "Epoch 8/10\n",
            "14/14 [==============================] - 7s 460ms/step - loss: 1.5369 - accuracy: 0.3091 - val_loss: 1.4495 - val_accuracy: 0.3295\n",
            "Epoch 9/10\n",
            "14/14 [==============================] - 7s 464ms/step - loss: 1.5060 - accuracy: 0.2886 - val_loss: 1.4554 - val_accuracy: 0.2955\n",
            "Epoch 10/10\n",
            "14/14 [==============================] - 7s 463ms/step - loss: 1.5096 - accuracy: 0.2977 - val_loss: 1.4680 - val_accuracy: 0.3295\n",
            "Training was completed in  73.14543342590332  seconds.\n"
          ]
        }
      ],
      "source": [
        "totaltime = 0\n",
        "start = time.time()\n",
        "\n",
        "history = model.fit(aug_train_dataset,\n",
        "                    validation_data=validation_dataset,\n",
        "                    epochs=10, verbose=1,\n",
        "                    )\n",
        "end = time.time()\n",
        "\n",
        "totaltime = end - start\n",
        "\n",
        "print(\"Training was completed in \",totaltime,\" seconds.\")"
      ]
    },
    {
      "cell_type": "markdown",
      "metadata": {
        "id": "J8naNmg6IL2M"
      },
      "source": [
        "### 20 Epochs"
      ]
    },
    {
      "cell_type": "code",
      "execution_count": null,
      "metadata": {
        "id": "Y8XdgzfCIL2M",
        "outputId": "c08b27d9-bb12-43a4-a7ad-2aeed819467d"
      },
      "outputs": [
        {
          "name": "stdout",
          "output_type": "stream",
          "text": [
            "Epoch 1/20\n",
            "14/14 [==============================] - 6s 446ms/step - loss: 1.5266 - accuracy: 0.3159 - val_loss: 1.4958 - val_accuracy: 0.3182\n",
            "Epoch 2/20\n",
            "14/14 [==============================] - 7s 472ms/step - loss: 1.4806 - accuracy: 0.3409 - val_loss: 1.5098 - val_accuracy: 0.3295\n",
            "Epoch 3/20\n",
            "14/14 [==============================] - 6s 453ms/step - loss: 1.5141 - accuracy: 0.3136 - val_loss: 1.5193 - val_accuracy: 0.2955\n",
            "Epoch 4/20\n",
            "14/14 [==============================] - 7s 456ms/step - loss: 1.5280 - accuracy: 0.3182 - val_loss: 1.5566 - val_accuracy: 0.2614\n",
            "Epoch 5/20\n",
            "14/14 [==============================] - 7s 466ms/step - loss: 1.5440 - accuracy: 0.2955 - val_loss: 1.4806 - val_accuracy: 0.2955\n",
            "Epoch 6/20\n",
            "14/14 [==============================] - 7s 464ms/step - loss: 1.4967 - accuracy: 0.3409 - val_loss: 1.5071 - val_accuracy: 0.3068\n",
            "Epoch 7/20\n",
            "14/14 [==============================] - 7s 462ms/step - loss: 1.4748 - accuracy: 0.3295 - val_loss: 1.5104 - val_accuracy: 0.3068\n",
            "Epoch 8/20\n",
            "14/14 [==============================] - 7s 477ms/step - loss: 1.4850 - accuracy: 0.3227 - val_loss: 1.5121 - val_accuracy: 0.3409\n",
            "Epoch 9/20\n",
            "14/14 [==============================] - 6s 440ms/step - loss: 1.4879 - accuracy: 0.3409 - val_loss: 1.5511 - val_accuracy: 0.2955\n",
            "Epoch 10/20\n",
            "14/14 [==============================] - 7s 464ms/step - loss: 1.4759 - accuracy: 0.3523 - val_loss: 1.4853 - val_accuracy: 0.3182\n",
            "Epoch 11/20\n",
            "14/14 [==============================] - 6s 451ms/step - loss: 1.4899 - accuracy: 0.3386 - val_loss: 1.4782 - val_accuracy: 0.3068\n",
            "Epoch 12/20\n",
            "14/14 [==============================] - 7s 470ms/step - loss: 1.5097 - accuracy: 0.3364 - val_loss: 1.4214 - val_accuracy: 0.3523\n",
            "Epoch 13/20\n",
            "14/14 [==============================] - 7s 466ms/step - loss: 1.4564 - accuracy: 0.3455 - val_loss: 1.4248 - val_accuracy: 0.3409\n",
            "Epoch 14/20\n",
            "14/14 [==============================] - 7s 459ms/step - loss: 1.4995 - accuracy: 0.3205 - val_loss: 1.4505 - val_accuracy: 0.3523\n",
            "Epoch 15/20\n",
            "14/14 [==============================] - 6s 454ms/step - loss: 1.4626 - accuracy: 0.3364 - val_loss: 1.4264 - val_accuracy: 0.3295\n",
            "Epoch 16/20\n",
            "14/14 [==============================] - 7s 466ms/step - loss: 1.4316 - accuracy: 0.3477 - val_loss: 1.4645 - val_accuracy: 0.3182\n",
            "Epoch 17/20\n",
            "14/14 [==============================] - 7s 456ms/step - loss: 1.4554 - accuracy: 0.3568 - val_loss: 1.4675 - val_accuracy: 0.3295\n",
            "Epoch 18/20\n",
            "14/14 [==============================] - 7s 458ms/step - loss: 1.4443 - accuracy: 0.3568 - val_loss: 1.4148 - val_accuracy: 0.3182\n",
            "Epoch 19/20\n",
            "14/14 [==============================] - 6s 446ms/step - loss: 1.4528 - accuracy: 0.3455 - val_loss: 1.4220 - val_accuracy: 0.3636\n",
            "Epoch 20/20\n",
            "14/14 [==============================] - 7s 461ms/step - loss: 1.5040 - accuracy: 0.2932 - val_loss: 1.4325 - val_accuracy: 0.3864\n",
            "Training was completed in  142.69023156166077  seconds.\n"
          ]
        }
      ],
      "source": [
        "totaltime = 0\n",
        "start = time.time()\n",
        "\n",
        "history = model.fit(aug_train_dataset,\n",
        "                    validation_data=validation_dataset,\n",
        "                    epochs=20, verbose=1,\n",
        "                    )\n",
        "end = time.time()\n",
        "\n",
        "totaltime = end - start\n",
        "\n",
        "print(\"Training was completed in \",totaltime,\" seconds.\")"
      ]
    },
    {
      "cell_type": "code",
      "execution_count": null,
      "metadata": {
        "id": "C7qYTa8oIL2N"
      },
      "outputs": [],
      "source": []
    }
  ],
  "metadata": {
    "colab": {
      "collapsed_sections": [
        "XbAyLWEJ6_Qj",
        "HUDr4AoFIL1m",
        "GNDMlO2lIL1t",
        "BWp6fs4MIL1t",
        "N19Jcc7zIL1u",
        "p7iFFcj-IL1v",
        "D4N5pv9JIL1w",
        "heeuaQC3IL1w",
        "P_QC87szIL1w",
        "Dulmu5HRIL12",
        "DZwLKOCFIL13",
        "Ir01iJD1IL2L",
        "H_8vU3paIL2L",
        "K7vk6bOAJL0k",
        "IPS3VJiPIL2M",
        "ogFykPO5IL2M",
        "J8naNmg6IL2M"
      ],
      "provenance": []
    },
    "kernelspec": {
      "display_name": "my_tensorflow4",
      "language": "python",
      "name": "my_tensorflow4"
    },
    "language_info": {
      "codemirror_mode": {
        "name": "ipython",
        "version": 3
      },
      "file_extension": ".py",
      "mimetype": "text/x-python",
      "name": "python",
      "nbconvert_exporter": "python",
      "pygments_lexer": "ipython3",
      "version": "3.9.16"
    }
  },
  "nbformat": 4,
  "nbformat_minor": 0
}